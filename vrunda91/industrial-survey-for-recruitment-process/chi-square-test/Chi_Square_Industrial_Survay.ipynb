{
  "nbformat": 4,
  "nbformat_minor": 0,
  "metadata": {
    "colab": {
      "provenance": [],
      "authorship_tag": "ABX9TyN5o5sORczPPFJQBhvj/eIp",
      "include_colab_link": true
    },
    "kernelspec": {
      "name": "python3",
      "display_name": "Python 3"
    },
    "language_info": {
      "name": "python"
    }
  },
  "cells": [
    {
      "cell_type": "markdown",
      "metadata": {
        "id": "view-in-github",
        "colab_type": "text"
      },
      "source": [
        "<a href=\"https://colab.research.google.com/github/vrundag91/industrial-survey-for-recruitment-process/blob/main/vrunda91/industrial-survey-for-recruitment-process/chi-square-test/Chi_Square_Industrial_Survay.ipynb\" target=\"_parent\"><img src=\"https://colab.research.google.com/assets/colab-badge.svg\" alt=\"Open In Colab\"/></a>"
      ]
    },
    {
      "cell_type": "markdown",
      "source": [
        "# Sample Example"
      ],
      "metadata": {
        "id": "BAweWG2WEUsk"
      }
    },
    {
      "cell_type": "code",
      "source": [
        "import numpy as np\n",
        "import scipy.stats as stats\n",
        "\n",
        "# Data\n",
        "observed = np.array([[25, 40], [60, 70], [20, 30]])\n",
        "\n",
        "# Perform the Chi-square test\n",
        "chi2, p, dof, expected = stats.chi2_contingency(observed)\n",
        "\n",
        "# Interpret the test results\n",
        "alpha = 0.05\n",
        "if p < alpha:\n",
        "    print(f\"Reject H0. There is a relationship between gender and preference of operating system (p = {p:.4f})\")\n",
        "else:\n",
        "    print(f\"Fail to reject H0. There is no relationship between gender and preference of operating system (p = {p:.4f})\")\n"
      ],
      "metadata": {
        "colab": {
          "base_uri": "https://localhost:8080/"
        },
        "id": "iuasBnWb-g7E",
        "outputId": "7b28d068-3ea3-4d99-f695-b7cf2e0981db"
      },
      "execution_count": null,
      "outputs": [
        {
          "output_type": "stream",
          "name": "stdout",
          "text": [
            "Fail to reject H0. There is no relationship between gender and preference of operating system (p = 0.5335)\n"
          ]
        }
      ]
    },
    {
      "cell_type": "code",
      "execution_count": null,
      "metadata": {
        "colab": {
          "base_uri": "https://localhost:8080/",
          "height": 417
        },
        "id": "UeNKopvh94jd",
        "outputId": "443fdebd-e49d-40f9-e92f-49107f4e3662"
      },
      "outputs": [
        {
          "output_type": "stream",
          "name": "stdout",
          "text": [
            "chi2 =  1.2564102564102562\n",
            "p =  0.5335485934116908\n",
            "dof =  2\n",
            "expected =  [[27.85714286 37.14285714]\n",
            " [55.71428571 74.28571429]\n",
            " [21.42857143 28.57142857]]\n",
            "critical_value =  5.991464547107979\n"
          ]
        },
        {
          "output_type": "display_data",
          "data": {
            "text/plain": [
              "<Figure size 432x288 with 1 Axes>"
            ],
            "image/png": "[encoded data removed]"
          },
          "metadata": {
            "needs_background": "light"
          }
        }
      ],
      "source": [
        "import numpy as np\n",
        "import matplotlib.pyplot as plt\n",
        "import scipy.stats as stats\n",
        "\n",
        "# Data\n",
        "observed = np.array([[25, 40], [60, 70], [20, 30]])\n",
        "\n",
        "# Perform the Chi-square test\n",
        "chi2, p, dof, expected = stats.chi2_contingency(observed)\n",
        "\n",
        "# Plot the critical region\n",
        "x = np.linspace(0, 20, 1000)\n",
        "y = stats.chi2.pdf(x, dof)\n",
        "critical_value = stats.chi2.ppf(0.95, dof)\n",
        "\n",
        "print(\"chi2 = \", chi2)\n",
        "print(\"p = \", p)\n",
        "print(\"dof = \", dof)\n",
        "print(\"expected = \", expected)\n",
        "\n",
        "print(\"critical_value = \", critical_value)\n",
        "\n",
        "\n",
        "plt.plot(x, y, label='Chi-square distribution')\n",
        "plt.axvline(critical_value, color='red', linestyle='--', label='Critical value (alpha = 0.05)')\n",
        "plt.axvline(chi2, color='green', linestyle='--', label='Test statistic')\n",
        "plt.legend()\n",
        "plt.xlabel('Chi-square')\n",
        "plt.ylabel('Probability density')\n",
        "plt.title(f'Chi-square test (dof = {dof})')\n",
        "plt.show()\n"
      ]
    },
    {
      "cell_type": "markdown",
      "source": [
        "# Industry Survey data"
      ],
      "metadata": {
        "id": "aN9zJaNrEYdk"
      }
    },
    {
      "cell_type": "code",
      "source": [
        "import csv\n",
        "import pandas as pd\n",
        "from collections import defaultdict\n",
        "\n",
        "# Load data from the CSV file\n",
        "data = []\n",
        "with open('/content/company_size_vs_response.csv', 'r') as f:\n",
        "    reader = csv.DictReader(f)\n",
        "    for row in reader:\n",
        "        data.append(row)\n",
        "\n",
        "# Create a frequency table\n",
        "frequency_table = defaultdict(lambda: defaultdict(int))\n",
        "for row in data:\n",
        "    company_size = row['company_size']\n",
        "    response = row['response']\n",
        "    frequency_table[company_size][response] += 1\n",
        "\n",
        "# Convert the frequency table to a DataFrame\n",
        "df = pd.DataFrame(frequency_table)\n",
        "df = df.fillna(0).astype(int)\n",
        "df = df.T  # Transpose the DataFrame so that company_size becomes the index\n",
        "\n",
        "# Add row and column totals to the DataFrame\n",
        "df['rTOTAL'] = df.sum(axis=1)\n",
        "df.loc['cTOTAL'] = df.sum(axis=0)\n",
        "\n",
        "# Print the DataFrame\n",
        "print(df)\n"
      ],
      "metadata": {
        "colab": {
          "base_uri": "https://localhost:8080/"
        },
        "id": "qjRh3cXA_y80",
        "outputId": "d766be11-6ff2-44e4-9482-75b4387c5422"
      },
      "execution_count": null,
      "outputs": [
        {
          "output_type": "stream",
          "name": "stdout",
          "text": [
            "        no  try  yes  rTOTAL\n",
            "small    9    9    1      19\n",
            "micro    2    3    1       6\n",
            "large    3    7   33      43\n",
            "medium   1   14   13      28\n",
            "cTOTAL  15   33   48      96\n"
          ]
        }
      ]
    },
    {
      "cell_type": "code",
      "source": [
        "# Data\n",
        "observed = np.array([[9, 9, 1], [2, 3, 1], [3, 7, 33], [1, 14, 13]])\n",
        "\n",
        "# Perform the Chi-square test\n",
        "chi2, p, dof, expected = stats.chi2_contingency(observed)\n",
        "\n",
        "# Interpret the test results\n",
        "alpha = 0.05\n",
        "if p < alpha:\n",
        "    print(f\"Reject H0. There is a relationship between company size and response towards our proposed system (p = {p:.4f})\")\n",
        "else:\n",
        "    print(f\"Fail to reject H0. There is no relationship between company size and response towards our proposed system (p = {p:.4f})\")\n"
      ],
      "metadata": {
        "id": "SrgSYmOGEgkN",
        "colab": {
          "base_uri": "https://localhost:8080/"
        },
        "outputId": "24f475bc-ae3d-4299-ab33-b36c77d118a2"
      },
      "execution_count": null,
      "outputs": [
        {
          "output_type": "stream",
          "name": "stdout",
          "text": [
            "Reject H0. There is a relationship between company size and response towards our proposed system (p = 0.0000)\n"
          ]
        }
      ]
    },
    {
      "cell_type": "code",
      "source": [
        "# Data\n",
        "observed = np.array([[9, 9, 1], [2, 3, 1], [3, 7, 33], [1, 14, 13]])\n",
        "\n",
        "# Perform the Chi-square test\n",
        "chi2, p, dof, expected = stats.chi2_contingency(observed)\n",
        "\n",
        "# Plot the critical region\n",
        "x = np.linspace(0, 20, 1000)\n",
        "y = stats.chi2.pdf(x, dof)\n",
        "critical_value = stats.chi2.ppf(0.95, dof)\n",
        "\n",
        "print(\"chi2 = \", chi2)\n",
        "print(\"p = \", p)\n",
        "print(\"dof = \", dof)\n",
        "print(\"expected = \", expected)\n",
        "\n",
        "print(\"critical_value = \", critical_value)\n",
        "\n",
        "\n",
        "plt.plot(x, y, label='Chi-square distribution')\n",
        "plt.axvline(critical_value, color='red', linestyle='--', label='Critical value (alpha = 0.05)')\n",
        "plt.axvline(chi2, color='green', linestyle='--', label='Test statistic')\n",
        "plt.legend()\n",
        "plt.xlabel('Chi-square')\n",
        "plt.ylabel('Probability density')\n",
        "plt.title(f'Chi-square test (dof = {dof})')\n",
        "plt.show()"
      ],
      "metadata": {
        "colab": {
          "base_uri": "https://localhost:8080/"
        },
        "id": "_BXhUhFktFuR",
        "outputId": "cf37a8b4-e871-4595-88ad-6aa63fff81d4"
      },
      "execution_count": null,
      "outputs": [
        {
          "output_type": "stream",
          "name": "stdout",
          "text": [
            "chi2 =  40.72436853232447\n",
            "p =  3.281162165355613e-07\n",
            "dof =  6\n",
            "expected =  [[ 2.96875  6.53125  9.5    ]\n",
            " [ 0.9375   2.0625   3.     ]\n",
            " [ 6.71875 14.78125 21.5    ]\n",
            " [ 4.375    9.625   14.     ]]\n",
            "critical_value =  12.591587243743977\n"
          ]
        },
        {
          "output_type": "display_data",
          "data": {
            "text/plain": [
              "<Figure size 432x288 with 1 Axes>"
            ],
            "image/png": "[encoded data removed]"
          },
          "metadata": {
            "needs_background": "light"
          }
        }
      ]
    },
    {
      "cell_type": "code",
      "source": [],
      "metadata": {
        "id": "JpBexi4_2Z8I"
      },
      "execution_count": null,
      "outputs": []
    }
  ]
}